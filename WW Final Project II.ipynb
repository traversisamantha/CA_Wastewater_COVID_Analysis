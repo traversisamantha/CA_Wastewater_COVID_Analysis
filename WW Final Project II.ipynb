{
 "cells": [
  {
   "cell_type": "code",
   "execution_count": 1,
   "id": "00a1007b",
   "metadata": {},
   "outputs": [],
   "source": [
    "import pandas as pd\n",
    "import numpy as np\n",
    "import matplotlib.pyplot as plt\n",
    "import seaborn as sns\n",
    "import os\n",
    "from mpl_toolkits.mplot3d import Axes3D"
   ]
  },
  {
   "cell_type": "code",
   "execution_count": 2,
   "id": "d021ef3d",
   "metadata": {},
   "outputs": [],
   "source": [
    "#read in file\n",
    "dfWW = pd.read_csv('/Users/samanthatraversi/Documents/CleanWWData.csv')\n",
    "dfWW.dataframeName = 'WW'"
   ]
  },
  {
   "cell_type": "code",
   "execution_count": 3,
   "id": "b0bcf30b",
   "metadata": {},
   "outputs": [],
   "source": [
    "dfWW['zipcode'] = dfWW['zipcode'].astype(object)"
   ]
  },
  {
   "cell_type": "code",
   "execution_count": 4,
   "id": "c986eb0e",
   "metadata": {},
   "outputs": [
    {
     "name": "stdout",
     "output_type": "stream",
     "text": [
      "<class 'pandas.core.frame.DataFrame'>\n",
      "RangeIndex: 7340 entries, 0 to 7339\n",
      "Data columns (total 13 columns):\n",
      " #   Column                Non-Null Count  Dtype  \n",
      "---  ------                --------------  -----  \n",
      " 0   epaid                 7340 non-null   object \n",
      " 1   sample_id             7340 non-null   object \n",
      " 2   date                  7340 non-null   object \n",
      " 3   county                7340 non-null   object \n",
      " 4   zipcode               7340 non-null   object \n",
      " 5   probable_cases        7340 non-null   int64  \n",
      " 6   vaccine_equity        7340 non-null   int64  \n",
      " 7   pop_fully_vaccinated  7340 non-null   float64\n",
      " 8   pop_part_vaccinated   7340 non-null   float64\n",
      " 9   population_served     7340 non-null   int64  \n",
      " 10  sample_matrix         7340 non-null   object \n",
      " 11  pcr_type              7340 non-null   object \n",
      " 12  pcr_target_avg_conc   7340 non-null   int64  \n",
      "dtypes: float64(2), int64(4), object(7)\n",
      "memory usage: 745.6+ KB\n"
     ]
    }
   ],
   "source": [
    "dfWW.info()"
   ]
  },
  {
   "cell_type": "code",
   "execution_count": 5,
   "id": "7dfdfedb",
   "metadata": {},
   "outputs": [],
   "source": [
    "dfWW.loc[dfWW['pcr_target_avg_conc'].between(0, 14920, 'both'), 'class'] = '0'\n",
    "dfWW.loc[dfWW['pcr_target_avg_conc'].between(14920, 48700, 'right'), 'class'] = '1'\n",
    "dfWW.loc[dfWW['pcr_target_avg_conc'].between(48700, 195060, 'right'), 'class'] = '2'\n",
    "dfWW.loc[dfWW['pcr_target_avg_conc'].between(195060, 13207458, 'right'), 'class'] = '3'"
   ]
  },
  {
   "cell_type": "code",
   "execution_count": 6,
   "id": "f65e4941",
   "metadata": {},
   "outputs": [
    {
     "data": {
      "text/html": [
       "<div>\n",
       "<style scoped>\n",
       "    .dataframe tbody tr th:only-of-type {\n",
       "        vertical-align: middle;\n",
       "    }\n",
       "\n",
       "    .dataframe tbody tr th {\n",
       "        vertical-align: top;\n",
       "    }\n",
       "\n",
       "    .dataframe thead th {\n",
       "        text-align: right;\n",
       "    }\n",
       "</style>\n",
       "<table border=\"1\" class=\"dataframe\">\n",
       "  <thead>\n",
       "    <tr style=\"text-align: right;\">\n",
       "      <th></th>\n",
       "      <th>epaid</th>\n",
       "      <th>sample_id</th>\n",
       "      <th>date</th>\n",
       "      <th>county</th>\n",
       "      <th>zipcode</th>\n",
       "      <th>probable_cases</th>\n",
       "      <th>vaccine_equity</th>\n",
       "      <th>pop_fully_vaccinated</th>\n",
       "      <th>pop_part_vaccinated</th>\n",
       "      <th>population_served</th>\n",
       "      <th>sample_matrix</th>\n",
       "      <th>pcr_type</th>\n",
       "      <th>pcr_target_avg_conc</th>\n",
       "      <th>class</th>\n",
       "    </tr>\n",
       "  </thead>\n",
       "  <tbody>\n",
       "    <tr>\n",
       "      <th>0</th>\n",
       "      <td>CA0109991</td>\n",
       "      <td>LASAN_Hyp442030.041</td>\n",
       "      <td>2021-01-12</td>\n",
       "      <td>Los Angeles</td>\n",
       "      <td>90293</td>\n",
       "      <td>3783</td>\n",
       "      <td>4</td>\n",
       "      <td>0.0</td>\n",
       "      <td>0.0</td>\n",
       "      <td>4000000</td>\n",
       "      <td>raw wastewater</td>\n",
       "      <td>ddpcr</td>\n",
       "      <td>217074</td>\n",
       "      <td>3</td>\n",
       "    </tr>\n",
       "    <tr>\n",
       "      <th>1</th>\n",
       "      <td>CA0109991</td>\n",
       "      <td>LASAN_Hyp442080.041</td>\n",
       "      <td>2021-01-12</td>\n",
       "      <td>Los Angeles</td>\n",
       "      <td>90293</td>\n",
       "      <td>3783</td>\n",
       "      <td>4</td>\n",
       "      <td>0.0</td>\n",
       "      <td>0.0</td>\n",
       "      <td>4000000</td>\n",
       "      <td>raw wastewater</td>\n",
       "      <td>ddpcr</td>\n",
       "      <td>244530</td>\n",
       "      <td>3</td>\n",
       "    </tr>\n",
       "    <tr>\n",
       "      <th>2</th>\n",
       "      <td>CA0109991</td>\n",
       "      <td>LASAN_Hyp442080.041</td>\n",
       "      <td>2021-01-12</td>\n",
       "      <td>Los Angeles</td>\n",
       "      <td>90293</td>\n",
       "      <td>3783</td>\n",
       "      <td>4</td>\n",
       "      <td>0.0</td>\n",
       "      <td>0.0</td>\n",
       "      <td>4000000</td>\n",
       "      <td>raw wastewater</td>\n",
       "      <td>ddpcr</td>\n",
       "      <td>266838</td>\n",
       "      <td>3</td>\n",
       "    </tr>\n",
       "    <tr>\n",
       "      <th>3</th>\n",
       "      <td>CA0109991</td>\n",
       "      <td>LASAN_Hyp442030.041</td>\n",
       "      <td>2021-01-12</td>\n",
       "      <td>Los Angeles</td>\n",
       "      <td>90293</td>\n",
       "      <td>3783</td>\n",
       "      <td>4</td>\n",
       "      <td>0.0</td>\n",
       "      <td>0.0</td>\n",
       "      <td>4000000</td>\n",
       "      <td>raw wastewater</td>\n",
       "      <td>ddpcr</td>\n",
       "      <td>281138</td>\n",
       "      <td>3</td>\n",
       "    </tr>\n",
       "    <tr>\n",
       "      <th>4</th>\n",
       "      <td>CA0109991</td>\n",
       "      <td>LASAN_Hyp442060.041</td>\n",
       "      <td>2021-01-12</td>\n",
       "      <td>Los Angeles</td>\n",
       "      <td>90293</td>\n",
       "      <td>3783</td>\n",
       "      <td>4</td>\n",
       "      <td>0.0</td>\n",
       "      <td>0.0</td>\n",
       "      <td>4000000</td>\n",
       "      <td>raw wastewater</td>\n",
       "      <td>ddpcr</td>\n",
       "      <td>729300</td>\n",
       "      <td>3</td>\n",
       "    </tr>\n",
       "  </tbody>\n",
       "</table>\n",
       "</div>"
      ],
      "text/plain": [
       "       epaid            sample_id        date       county zipcode  \\\n",
       "0  CA0109991  LASAN_Hyp442030.041  2021-01-12  Los Angeles   90293   \n",
       "1  CA0109991  LASAN_Hyp442080.041  2021-01-12  Los Angeles   90293   \n",
       "2  CA0109991  LASAN_Hyp442080.041  2021-01-12  Los Angeles   90293   \n",
       "3  CA0109991  LASAN_Hyp442030.041  2021-01-12  Los Angeles   90293   \n",
       "4  CA0109991  LASAN_Hyp442060.041  2021-01-12  Los Angeles   90293   \n",
       "\n",
       "   probable_cases  vaccine_equity  pop_fully_vaccinated  pop_part_vaccinated  \\\n",
       "0            3783               4                   0.0                  0.0   \n",
       "1            3783               4                   0.0                  0.0   \n",
       "2            3783               4                   0.0                  0.0   \n",
       "3            3783               4                   0.0                  0.0   \n",
       "4            3783               4                   0.0                  0.0   \n",
       "\n",
       "   population_served   sample_matrix pcr_type  pcr_target_avg_conc class  \n",
       "0            4000000  raw wastewater    ddpcr               217074     3  \n",
       "1            4000000  raw wastewater    ddpcr               244530     3  \n",
       "2            4000000  raw wastewater    ddpcr               266838     3  \n",
       "3            4000000  raw wastewater    ddpcr               281138     3  \n",
       "4            4000000  raw wastewater    ddpcr               729300     3  "
      ]
     },
     "execution_count": 6,
     "metadata": {},
     "output_type": "execute_result"
    }
   ],
   "source": [
    "dfWW.head()"
   ]
  },
  {
   "cell_type": "code",
   "execution_count": 7,
   "id": "c6365956",
   "metadata": {},
   "outputs": [],
   "source": [
    "dfWW1 = dfWW.drop(['epaid', 'sample_id', 'date', 'county', 'zipcode', 'pcr_type', 'pcr_target_avg_conc'], \n",
    "                  axis = 1, inplace=True)"
   ]
  },
  {
   "cell_type": "code",
   "execution_count": 9,
   "id": "de806cce",
   "metadata": {},
   "outputs": [
    {
     "data": {
      "text/html": [
       "<div>\n",
       "<style scoped>\n",
       "    .dataframe tbody tr th:only-of-type {\n",
       "        vertical-align: middle;\n",
       "    }\n",
       "\n",
       "    .dataframe tbody tr th {\n",
       "        vertical-align: top;\n",
       "    }\n",
       "\n",
       "    .dataframe thead th {\n",
       "        text-align: right;\n",
       "    }\n",
       "</style>\n",
       "<table border=\"1\" class=\"dataframe\">\n",
       "  <thead>\n",
       "    <tr style=\"text-align: right;\">\n",
       "      <th></th>\n",
       "      <th>probable_cases</th>\n",
       "      <th>vaccine_equity</th>\n",
       "      <th>pop_fully_vaccinated</th>\n",
       "      <th>pop_part_vaccinated</th>\n",
       "      <th>population_served</th>\n",
       "      <th>sample_matrix</th>\n",
       "      <th>class</th>\n",
       "    </tr>\n",
       "  </thead>\n",
       "  <tbody>\n",
       "    <tr>\n",
       "      <th>0</th>\n",
       "      <td>3783</td>\n",
       "      <td>4</td>\n",
       "      <td>0.0</td>\n",
       "      <td>0.0</td>\n",
       "      <td>4000000</td>\n",
       "      <td>raw wastewater</td>\n",
       "      <td>3</td>\n",
       "    </tr>\n",
       "    <tr>\n",
       "      <th>1</th>\n",
       "      <td>3783</td>\n",
       "      <td>4</td>\n",
       "      <td>0.0</td>\n",
       "      <td>0.0</td>\n",
       "      <td>4000000</td>\n",
       "      <td>raw wastewater</td>\n",
       "      <td>3</td>\n",
       "    </tr>\n",
       "    <tr>\n",
       "      <th>2</th>\n",
       "      <td>3783</td>\n",
       "      <td>4</td>\n",
       "      <td>0.0</td>\n",
       "      <td>0.0</td>\n",
       "      <td>4000000</td>\n",
       "      <td>raw wastewater</td>\n",
       "      <td>3</td>\n",
       "    </tr>\n",
       "    <tr>\n",
       "      <th>3</th>\n",
       "      <td>3783</td>\n",
       "      <td>4</td>\n",
       "      <td>0.0</td>\n",
       "      <td>0.0</td>\n",
       "      <td>4000000</td>\n",
       "      <td>raw wastewater</td>\n",
       "      <td>3</td>\n",
       "    </tr>\n",
       "    <tr>\n",
       "      <th>4</th>\n",
       "      <td>3783</td>\n",
       "      <td>4</td>\n",
       "      <td>0.0</td>\n",
       "      <td>0.0</td>\n",
       "      <td>4000000</td>\n",
       "      <td>raw wastewater</td>\n",
       "      <td>3</td>\n",
       "    </tr>\n",
       "  </tbody>\n",
       "</table>\n",
       "</div>"
      ],
      "text/plain": [
       "   probable_cases  vaccine_equity  pop_fully_vaccinated  pop_part_vaccinated  \\\n",
       "0            3783               4                   0.0                  0.0   \n",
       "1            3783               4                   0.0                  0.0   \n",
       "2            3783               4                   0.0                  0.0   \n",
       "3            3783               4                   0.0                  0.0   \n",
       "4            3783               4                   0.0                  0.0   \n",
       "\n",
       "   population_served   sample_matrix class  \n",
       "0            4000000  raw wastewater     3  \n",
       "1            4000000  raw wastewater     3  \n",
       "2            4000000  raw wastewater     3  \n",
       "3            4000000  raw wastewater     3  \n",
       "4            4000000  raw wastewater     3  "
      ]
     },
     "execution_count": 9,
     "metadata": {},
     "output_type": "execute_result"
    }
   ],
   "source": [
    "dfWW.head()"
   ]
  },
  {
   "cell_type": "code",
   "execution_count": 10,
   "id": "9dab167d",
   "metadata": {},
   "outputs": [
    {
     "name": "stdout",
     "output_type": "stream",
     "text": [
      "Requirement already satisfied: pycaret in ./opt/anaconda3/lib/python3.9/site-packages (2.2.2)\n",
      "Requirement already satisfied: catboost>=0.23.2 in ./opt/anaconda3/lib/python3.9/site-packages (from pycaret) (1.1.1)\n",
      "Requirement already satisfied: cufflinks>=0.17.0 in ./opt/anaconda3/lib/python3.9/site-packages (from pycaret) (0.17.3)\n",
      "Requirement already satisfied: gensim in ./opt/anaconda3/lib/python3.9/site-packages (from pycaret) (4.1.2)\n",
      "Requirement already satisfied: umap-learn in ./opt/anaconda3/lib/python3.9/site-packages (from pycaret) (0.5.3)\n",
      "Requirement already satisfied: plotly>=4.4.1 in ./opt/anaconda3/lib/python3.9/site-packages (from pycaret) (5.6.0)\n",
      "Requirement already satisfied: joblib in ./opt/anaconda3/lib/python3.9/site-packages (from pycaret) (1.2.0)\n",
      "Requirement already satisfied: textblob in ./opt/anaconda3/lib/python3.9/site-packages (from pycaret) (0.17.1)\n",
      "Requirement already satisfied: spacy in ./opt/anaconda3/lib/python3.9/site-packages (from pycaret) (3.4.4)\n",
      "Requirement already satisfied: mlxtend in ./opt/anaconda3/lib/python3.9/site-packages (from pycaret) (0.21.0)\n",
      "Requirement already satisfied: kmodes>=0.10.1 in ./opt/anaconda3/lib/python3.9/site-packages (from pycaret) (0.12.2)\n",
      "Requirement already satisfied: xgboost>=1.1.0 in ./opt/anaconda3/lib/python3.9/site-packages (from pycaret) (1.7.2)\n",
      "Requirement already satisfied: scikit-learn>=0.23.2 in ./opt/anaconda3/lib/python3.9/site-packages (from pycaret) (1.0.2)\n",
      "Requirement already satisfied: matplotlib in ./opt/anaconda3/lib/python3.9/site-packages (from pycaret) (3.5.1)\n",
      "Requirement already satisfied: IPython in ./opt/anaconda3/lib/python3.9/site-packages (from pycaret) (8.2.0)\n",
      "Requirement already satisfied: pyLDAvis in ./opt/anaconda3/lib/python3.9/site-packages (from pycaret) (3.3.1)\n",
      "Requirement already satisfied: mlflow in ./opt/anaconda3/lib/python3.9/site-packages (from pycaret) (2.0.1)\n",
      "Requirement already satisfied: imbalanced-learn>=0.7.0 in ./opt/anaconda3/lib/python3.9/site-packages (from pycaret) (0.10.0)\n",
      "Requirement already satisfied: yellowbrick>=1.0.1 in ./opt/anaconda3/lib/python3.9/site-packages (from pycaret) (1.5)\n",
      "Requirement already satisfied: scikit-plot in ./opt/anaconda3/lib/python3.9/site-packages (from pycaret) (0.3.7)\n",
      "Requirement already satisfied: ipywidgets in ./opt/anaconda3/lib/python3.9/site-packages (from pycaret) (7.6.5)\n",
      "Requirement already satisfied: seaborn in ./opt/anaconda3/lib/python3.9/site-packages (from pycaret) (0.11.2)\n",
      "Requirement already satisfied: lightgbm>=2.3.1 in ./opt/anaconda3/lib/python3.9/site-packages (from pycaret) (3.3.3)\n",
      "Requirement already satisfied: nltk in ./opt/anaconda3/lib/python3.9/site-packages (from pycaret) (3.7)\n",
      "Requirement already satisfied: pandas in ./opt/anaconda3/lib/python3.9/site-packages (from pycaret) (1.4.2)\n",
      "Requirement already satisfied: numpy>=1.17 in ./opt/anaconda3/lib/python3.9/site-packages (from pycaret) (1.21.5)\n",
      "Requirement already satisfied: pandas-profiling>=2.8.0 in ./opt/anaconda3/lib/python3.9/site-packages (from pycaret) (3.5.0)\n",
      "Requirement already satisfied: pyod in ./opt/anaconda3/lib/python3.9/site-packages (from pycaret) (1.0.7)\n",
      "Requirement already satisfied: wordcloud in ./opt/anaconda3/lib/python3.9/site-packages (from pycaret) (1.8.2.2)\n",
      "Requirement already satisfied: six in ./opt/anaconda3/lib/python3.9/site-packages (from catboost>=0.23.2->pycaret) (1.16.0)\n",
      "Requirement already satisfied: scipy in ./opt/anaconda3/lib/python3.9/site-packages (from catboost>=0.23.2->pycaret) (1.7.3)\n",
      "Requirement already satisfied: graphviz in ./opt/anaconda3/lib/python3.9/site-packages (from catboost>=0.23.2->pycaret) (0.20.1)\n",
      "Requirement already satisfied: setuptools>=34.4.1 in ./opt/anaconda3/lib/python3.9/site-packages (from cufflinks>=0.17.0->pycaret) (61.2.0)\n",
      "Requirement already satisfied: colorlover>=0.2.1 in ./opt/anaconda3/lib/python3.9/site-packages (from cufflinks>=0.17.0->pycaret) (0.3.0)\n",
      "Requirement already satisfied: threadpoolctl>=2.0.0 in ./opt/anaconda3/lib/python3.9/site-packages (from imbalanced-learn>=0.7.0->pycaret) (2.2.0)\n",
      "Requirement already satisfied: prompt-toolkit!=3.0.0,!=3.0.1,<3.1.0,>=2.0.0 in ./opt/anaconda3/lib/python3.9/site-packages (from IPython->pycaret) (3.0.20)\n",
      "Requirement already satisfied: appnope in ./opt/anaconda3/lib/python3.9/site-packages (from IPython->pycaret) (0.1.2)\n",
      "Requirement already satisfied: stack-data in ./opt/anaconda3/lib/python3.9/site-packages (from IPython->pycaret) (0.2.0)\n",
      "Requirement already satisfied: traitlets>=5 in ./opt/anaconda3/lib/python3.9/site-packages (from IPython->pycaret) (5.1.1)\n",
      "Requirement already satisfied: pexpect>4.3 in ./opt/anaconda3/lib/python3.9/site-packages (from IPython->pycaret) (4.8.0)\n",
      "Requirement already satisfied: pickleshare in ./opt/anaconda3/lib/python3.9/site-packages (from IPython->pycaret) (0.7.5)\n",
      "Requirement already satisfied: decorator in ./opt/anaconda3/lib/python3.9/site-packages (from IPython->pycaret) (5.1.1)\n",
      "Requirement already satisfied: backcall in ./opt/anaconda3/lib/python3.9/site-packages (from IPython->pycaret) (0.2.0)\n",
      "Requirement already satisfied: matplotlib-inline in ./opt/anaconda3/lib/python3.9/site-packages (from IPython->pycaret) (0.1.2)\n",
      "Requirement already satisfied: jedi>=0.16 in ./opt/anaconda3/lib/python3.9/site-packages (from IPython->pycaret) (0.18.1)\n",
      "Requirement already satisfied: pygments>=2.4.0 in ./opt/anaconda3/lib/python3.9/site-packages (from IPython->pycaret) (2.11.2)\n",
      "Requirement already satisfied: ipython-genutils~=0.2.0 in ./opt/anaconda3/lib/python3.9/site-packages (from ipywidgets->pycaret) (0.2.0)\n",
      "Requirement already satisfied: ipykernel>=4.5.1 in ./opt/anaconda3/lib/python3.9/site-packages (from ipywidgets->pycaret) (6.9.1)\n",
      "Requirement already satisfied: nbformat>=4.2.0 in ./opt/anaconda3/lib/python3.9/site-packages (from ipywidgets->pycaret) (5.3.0)\n",
      "Requirement already satisfied: widgetsnbextension~=3.5.0 in ./opt/anaconda3/lib/python3.9/site-packages (from ipywidgets->pycaret) (3.5.2)\n",
      "Requirement already satisfied: jupyterlab-widgets>=1.0.0 in ./opt/anaconda3/lib/python3.9/site-packages (from ipywidgets->pycaret) (1.0.0)\n",
      "Requirement already satisfied: tornado<7.0,>=4.2 in ./opt/anaconda3/lib/python3.9/site-packages (from ipykernel>=4.5.1->ipywidgets->pycaret) (6.1)\n",
      "Requirement already satisfied: debugpy<2.0,>=1.0.0 in ./opt/anaconda3/lib/python3.9/site-packages (from ipykernel>=4.5.1->ipywidgets->pycaret) (1.5.1)\n",
      "Requirement already satisfied: nest-asyncio in ./opt/anaconda3/lib/python3.9/site-packages (from ipykernel>=4.5.1->ipywidgets->pycaret) (1.5.5)\n",
      "Requirement already satisfied: jupyter-client<8.0 in ./opt/anaconda3/lib/python3.9/site-packages (from ipykernel>=4.5.1->ipywidgets->pycaret) (6.1.12)\n",
      "Requirement already satisfied: parso<0.9.0,>=0.8.0 in ./opt/anaconda3/lib/python3.9/site-packages (from jedi>=0.16->IPython->pycaret) (0.8.3)\n",
      "Requirement already satisfied: python-dateutil>=2.1 in ./opt/anaconda3/lib/python3.9/site-packages (from jupyter-client<8.0->ipykernel>=4.5.1->ipywidgets->pycaret) (2.8.2)\n",
      "Requirement already satisfied: jupyter-core>=4.6.0 in ./opt/anaconda3/lib/python3.9/site-packages (from jupyter-client<8.0->ipykernel>=4.5.1->ipywidgets->pycaret) (4.9.2)\n",
      "Requirement already satisfied: pyzmq>=13 in ./opt/anaconda3/lib/python3.9/site-packages (from jupyter-client<8.0->ipykernel>=4.5.1->ipywidgets->pycaret) (22.3.0)\n",
      "Requirement already satisfied: wheel in ./opt/anaconda3/lib/python3.9/site-packages (from lightgbm>=2.3.1->pycaret) (0.37.1)\n",
      "Requirement already satisfied: jsonschema>=2.6 in ./opt/anaconda3/lib/python3.9/site-packages (from nbformat>=4.2.0->ipywidgets->pycaret) (4.4.0)\n",
      "Requirement already satisfied: fastjsonschema in ./opt/anaconda3/lib/python3.9/site-packages (from nbformat>=4.2.0->ipywidgets->pycaret) (2.15.1)\n",
      "Requirement already satisfied: attrs>=17.4.0 in ./opt/anaconda3/lib/python3.9/site-packages (from jsonschema>=2.6->nbformat>=4.2.0->ipywidgets->pycaret) (21.4.0)\n",
      "Requirement already satisfied: pyrsistent!=0.17.0,!=0.17.1,!=0.17.2,>=0.14.0 in ./opt/anaconda3/lib/python3.9/site-packages (from jsonschema>=2.6->nbformat>=4.2.0->ipywidgets->pycaret) (0.18.0)\n",
      "Requirement already satisfied: pytz>=2020.1 in ./opt/anaconda3/lib/python3.9/site-packages (from pandas->pycaret) (2021.3)\n",
      "Requirement already satisfied: multimethod<1.10,>=1.4 in ./opt/anaconda3/lib/python3.9/site-packages (from pandas-profiling>=2.8.0->pycaret) (1.9)\n",
      "Requirement already satisfied: typeguard<2.14,>=2.13.2 in ./opt/anaconda3/lib/python3.9/site-packages (from pandas-profiling>=2.8.0->pycaret) (2.13.3)\n",
      "Requirement already satisfied: htmlmin==0.1.12 in ./opt/anaconda3/lib/python3.9/site-packages (from pandas-profiling>=2.8.0->pycaret) (0.1.12)\n",
      "Requirement already satisfied: statsmodels<0.14,>=0.13.2 in ./opt/anaconda3/lib/python3.9/site-packages (from pandas-profiling>=2.8.0->pycaret) (0.13.2)\n",
      "Requirement already satisfied: visions[type_image_path]==0.7.5 in ./opt/anaconda3/lib/python3.9/site-packages (from pandas-profiling>=2.8.0->pycaret) (0.7.5)\n",
      "Requirement already satisfied: phik<0.13,>=0.11.1 in ./opt/anaconda3/lib/python3.9/site-packages (from pandas-profiling>=2.8.0->pycaret) (0.12.3)\n",
      "Requirement already satisfied: jinja2<3.2,>=2.11.1 in ./opt/anaconda3/lib/python3.9/site-packages (from pandas-profiling>=2.8.0->pycaret) (2.11.3)\n",
      "Requirement already satisfied: tqdm<4.65,>=4.48.2 in ./opt/anaconda3/lib/python3.9/site-packages (from pandas-profiling>=2.8.0->pycaret) (4.64.0)\n",
      "Requirement already satisfied: pydantic<1.11,>=1.8.1 in ./opt/anaconda3/lib/python3.9/site-packages (from pandas-profiling>=2.8.0->pycaret) (1.10.2)\n",
      "Requirement already satisfied: requests<2.29,>=2.24.0 in ./opt/anaconda3/lib/python3.9/site-packages (from pandas-profiling>=2.8.0->pycaret) (2.27.1)\n",
      "Requirement already satisfied: PyYAML<6.1,>=5.0.0 in ./opt/anaconda3/lib/python3.9/site-packages (from pandas-profiling>=2.8.0->pycaret) (6.0)\n",
      "Requirement already satisfied: networkx>=2.4 in ./opt/anaconda3/lib/python3.9/site-packages (from visions[type_image_path]==0.7.5->pandas-profiling>=2.8.0->pycaret) (2.7.1)\n",
      "Requirement already satisfied: tangled-up-in-unicode>=0.0.4 in ./opt/anaconda3/lib/python3.9/site-packages (from visions[type_image_path]==0.7.5->pandas-profiling>=2.8.0->pycaret) (0.2.0)\n",
      "Requirement already satisfied: Pillow in ./opt/anaconda3/lib/python3.9/site-packages (from visions[type_image_path]==0.7.5->pandas-profiling>=2.8.0->pycaret) (9.0.1)\n",
      "Requirement already satisfied: imagehash in ./opt/anaconda3/lib/python3.9/site-packages (from visions[type_image_path]==0.7.5->pandas-profiling>=2.8.0->pycaret) (4.3.1)\n",
      "Requirement already satisfied: MarkupSafe>=0.23 in ./opt/anaconda3/lib/python3.9/site-packages (from jinja2<3.2,>=2.11.1->pandas-profiling>=2.8.0->pycaret) (2.0.1)\n",
      "Requirement already satisfied: packaging>=20.0 in ./opt/anaconda3/lib/python3.9/site-packages (from matplotlib->pycaret) (21.3)\n",
      "Requirement already satisfied: cycler>=0.10 in ./opt/anaconda3/lib/python3.9/site-packages (from matplotlib->pycaret) (0.11.0)\n",
      "Requirement already satisfied: kiwisolver>=1.0.1 in ./opt/anaconda3/lib/python3.9/site-packages (from matplotlib->pycaret) (1.3.2)\n",
      "Requirement already satisfied: fonttools>=4.22.0 in ./opt/anaconda3/lib/python3.9/site-packages (from matplotlib->pycaret) (4.25.0)\n",
      "Requirement already satisfied: pyparsing>=2.2.1 in ./opt/anaconda3/lib/python3.9/site-packages (from matplotlib->pycaret) (3.0.4)\n",
      "Requirement already satisfied: ptyprocess>=0.5 in ./opt/anaconda3/lib/python3.9/site-packages (from pexpect>4.3->IPython->pycaret) (0.7.0)\n",
      "Requirement already satisfied: tenacity>=6.2.0 in ./opt/anaconda3/lib/python3.9/site-packages (from plotly>=4.4.1->pycaret) (8.0.1)\n",
      "Requirement already satisfied: wcwidth in ./opt/anaconda3/lib/python3.9/site-packages (from prompt-toolkit!=3.0.0,!=3.0.1,<3.1.0,>=2.0.0->IPython->pycaret) (0.2.5)\n",
      "Requirement already satisfied: typing-extensions>=4.1.0 in ./opt/anaconda3/lib/python3.9/site-packages (from pydantic<1.11,>=1.8.1->pandas-profiling>=2.8.0->pycaret) (4.1.1)\n",
      "Requirement already satisfied: urllib3<1.27,>=1.21.1 in ./opt/anaconda3/lib/python3.9/site-packages (from requests<2.29,>=2.24.0->pandas-profiling>=2.8.0->pycaret) (1.26.9)\n",
      "Requirement already satisfied: certifi>=2017.4.17 in ./opt/anaconda3/lib/python3.9/site-packages (from requests<2.29,>=2.24.0->pandas-profiling>=2.8.0->pycaret) (2021.10.8)\n",
      "Requirement already satisfied: charset-normalizer~=2.0.0 in ./opt/anaconda3/lib/python3.9/site-packages (from requests<2.29,>=2.24.0->pandas-profiling>=2.8.0->pycaret) (2.0.4)\n",
      "Requirement already satisfied: idna<4,>=2.5 in ./opt/anaconda3/lib/python3.9/site-packages (from requests<2.29,>=2.24.0->pandas-profiling>=2.8.0->pycaret) (3.3)\n",
      "Requirement already satisfied: patsy>=0.5.2 in ./opt/anaconda3/lib/python3.9/site-packages (from statsmodels<0.14,>=0.13.2->pandas-profiling>=2.8.0->pycaret) (0.5.2)\n",
      "Requirement already satisfied: notebook>=4.4.1 in ./opt/anaconda3/lib/python3.9/site-packages (from widgetsnbextension~=3.5.0->ipywidgets->pycaret) (6.4.8)\n",
      "Requirement already satisfied: prometheus-client in ./opt/anaconda3/lib/python3.9/site-packages (from notebook>=4.4.1->widgetsnbextension~=3.5.0->ipywidgets->pycaret) (0.13.1)\n",
      "Requirement already satisfied: nbconvert in ./opt/anaconda3/lib/python3.9/site-packages (from notebook>=4.4.1->widgetsnbextension~=3.5.0->ipywidgets->pycaret) (6.4.4)\n",
      "Requirement already satisfied: argon2-cffi in ./opt/anaconda3/lib/python3.9/site-packages (from notebook>=4.4.1->widgetsnbextension~=3.5.0->ipywidgets->pycaret) (21.3.0)\n",
      "Requirement already satisfied: terminado>=0.8.3 in ./opt/anaconda3/lib/python3.9/site-packages (from notebook>=4.4.1->widgetsnbextension~=3.5.0->ipywidgets->pycaret) (0.13.1)\n",
      "Requirement already satisfied: Send2Trash>=1.8.0 in ./opt/anaconda3/lib/python3.9/site-packages (from notebook>=4.4.1->widgetsnbextension~=3.5.0->ipywidgets->pycaret) (1.8.0)\n",
      "Requirement already satisfied: argon2-cffi-bindings in ./opt/anaconda3/lib/python3.9/site-packages (from argon2-cffi->notebook>=4.4.1->widgetsnbextension~=3.5.0->ipywidgets->pycaret) (21.2.0)\n",
      "Requirement already satisfied: cffi>=1.0.1 in ./opt/anaconda3/lib/python3.9/site-packages (from argon2-cffi-bindings->argon2-cffi->notebook>=4.4.1->widgetsnbextension~=3.5.0->ipywidgets->pycaret) (1.15.0)\n",
      "Requirement already satisfied: pycparser in ./opt/anaconda3/lib/python3.9/site-packages (from cffi>=1.0.1->argon2-cffi-bindings->argon2-cffi->notebook>=4.4.1->widgetsnbextension~=3.5.0->ipywidgets->pycaret) (2.21)\n",
      "Requirement already satisfied: smart-open>=1.8.1 in ./opt/anaconda3/lib/python3.9/site-packages (from gensim->pycaret) (6.3.0)\n",
      "Requirement already satisfied: PyWavelets in ./opt/anaconda3/lib/python3.9/site-packages (from imagehash->visions[type_image_path]==0.7.5->pandas-profiling>=2.8.0->pycaret) (1.3.0)\n",
      "Requirement already satisfied: databricks-cli<1,>=0.8.7 in ./opt/anaconda3/lib/python3.9/site-packages (from mlflow->pycaret) (0.17.4)\n",
      "Requirement already satisfied: sqlparse<1,>=0.4.0 in ./opt/anaconda3/lib/python3.9/site-packages (from mlflow->pycaret) (0.4.3)\n",
      "Requirement already satisfied: pyarrow<11,>=4.0.0 in ./opt/anaconda3/lib/python3.9/site-packages (from mlflow->pycaret) (10.0.1)\n",
      "Requirement already satisfied: shap<1,>=0.40 in ./opt/anaconda3/lib/python3.9/site-packages (from mlflow->pycaret) (0.41.0)\n",
      "Requirement already satisfied: importlib-metadata!=4.7.0,<6,>=3.7.0 in ./opt/anaconda3/lib/python3.9/site-packages (from mlflow->pycaret) (4.11.3)\n",
      "Requirement already satisfied: protobuf<5,>=3.12.0 in ./opt/anaconda3/lib/python3.9/site-packages (from mlflow->pycaret) (3.19.1)\n",
      "Requirement already satisfied: alembic<2 in ./opt/anaconda3/lib/python3.9/site-packages (from mlflow->pycaret) (1.9.0)\n",
      "Requirement already satisfied: querystring-parser<2 in ./opt/anaconda3/lib/python3.9/site-packages (from mlflow->pycaret) (1.2.4)\n",
      "Requirement already satisfied: gunicorn<21 in ./opt/anaconda3/lib/python3.9/site-packages (from mlflow->pycaret) (20.1.0)\n",
      "Requirement already satisfied: entrypoints<1 in ./opt/anaconda3/lib/python3.9/site-packages (from mlflow->pycaret) (0.4)\n",
      "Requirement already satisfied: sqlalchemy<2,>=1.4.0 in ./opt/anaconda3/lib/python3.9/site-packages (from mlflow->pycaret) (1.4.32)\n",
      "Requirement already satisfied: gitpython<4,>=2.1.0 in ./opt/anaconda3/lib/python3.9/site-packages (from mlflow->pycaret) (3.1.29)\n",
      "Requirement already satisfied: click<9,>=7.0 in ./opt/anaconda3/lib/python3.9/site-packages (from mlflow->pycaret) (8.0.4)\n",
      "Requirement already satisfied: Flask<3 in ./opt/anaconda3/lib/python3.9/site-packages (from mlflow->pycaret) (1.1.2)\n",
      "Requirement already satisfied: cloudpickle<3 in ./opt/anaconda3/lib/python3.9/site-packages (from mlflow->pycaret) (2.0.0)\n",
      "Requirement already satisfied: docker<7,>=4.0.0 in ./opt/anaconda3/lib/python3.9/site-packages (from mlflow->pycaret) (6.0.1)\n",
      "Requirement already satisfied: markdown<4,>=3.3 in ./opt/anaconda3/lib/python3.9/site-packages (from mlflow->pycaret) (3.3.4)\n",
      "Requirement already satisfied: Mako in ./opt/anaconda3/lib/python3.9/site-packages (from alembic<2->mlflow->pycaret) (1.2.4)\n",
      "Requirement already satisfied: tabulate>=0.7.7 in ./opt/anaconda3/lib/python3.9/site-packages (from databricks-cli<1,>=0.8.7->mlflow->pycaret) (0.8.9)\n",
      "Requirement already satisfied: pyjwt>=1.7.0 in ./opt/anaconda3/lib/python3.9/site-packages (from databricks-cli<1,>=0.8.7->mlflow->pycaret) (2.1.0)\n",
      "Requirement already satisfied: oauthlib>=3.1.0 in ./opt/anaconda3/lib/python3.9/site-packages (from databricks-cli<1,>=0.8.7->mlflow->pycaret) (3.2.2)\n",
      "Requirement already satisfied: websocket-client>=0.32.0 in ./opt/anaconda3/lib/python3.9/site-packages (from docker<7,>=4.0.0->mlflow->pycaret) (0.58.0)\n",
      "Requirement already satisfied: Werkzeug>=0.15 in ./opt/anaconda3/lib/python3.9/site-packages (from Flask<3->mlflow->pycaret) (2.0.3)\n",
      "Requirement already satisfied: itsdangerous>=0.24 in ./opt/anaconda3/lib/python3.9/site-packages (from Flask<3->mlflow->pycaret) (2.0.1)\n",
      "Requirement already satisfied: gitdb<5,>=4.0.1 in ./opt/anaconda3/lib/python3.9/site-packages (from gitpython<4,>=2.1.0->mlflow->pycaret) (4.0.10)\n",
      "Requirement already satisfied: smmap<6,>=3.0.1 in ./opt/anaconda3/lib/python3.9/site-packages (from gitdb<5,>=4.0.1->gitpython<4,>=2.1.0->mlflow->pycaret) (5.0.0)\n",
      "Requirement already satisfied: zipp>=0.5 in ./opt/anaconda3/lib/python3.9/site-packages (from importlib-metadata!=4.7.0,<6,>=3.7.0->mlflow->pycaret) (3.7.0)\n",
      "Requirement already satisfied: numba in ./opt/anaconda3/lib/python3.9/site-packages (from shap<1,>=0.40->mlflow->pycaret) (0.55.1)\n",
      "Requirement already satisfied: slicer==0.0.7 in ./opt/anaconda3/lib/python3.9/site-packages (from shap<1,>=0.40->mlflow->pycaret) (0.0.7)\n",
      "Requirement already satisfied: greenlet!=0.4.17 in ./opt/anaconda3/lib/python3.9/site-packages (from sqlalchemy<2,>=1.4.0->mlflow->pycaret) (1.1.1)\n",
      "Requirement already satisfied: testpath in ./opt/anaconda3/lib/python3.9/site-packages (from nbconvert->notebook>=4.4.1->widgetsnbextension~=3.5.0->ipywidgets->pycaret) (0.5.0)\n",
      "Requirement already satisfied: beautifulsoup4 in ./opt/anaconda3/lib/python3.9/site-packages (from nbconvert->notebook>=4.4.1->widgetsnbextension~=3.5.0->ipywidgets->pycaret) (4.11.1)\n",
      "Requirement already satisfied: defusedxml in ./opt/anaconda3/lib/python3.9/site-packages (from nbconvert->notebook>=4.4.1->widgetsnbextension~=3.5.0->ipywidgets->pycaret) (0.7.1)\n",
      "Requirement already satisfied: nbclient<0.6.0,>=0.5.0 in ./opt/anaconda3/lib/python3.9/site-packages (from nbconvert->notebook>=4.4.1->widgetsnbextension~=3.5.0->ipywidgets->pycaret) (0.5.13)\n",
      "Requirement already satisfied: jupyterlab-pygments in ./opt/anaconda3/lib/python3.9/site-packages (from nbconvert->notebook>=4.4.1->widgetsnbextension~=3.5.0->ipywidgets->pycaret) (0.1.2)\n",
      "Requirement already satisfied: mistune<2,>=0.8.1 in ./opt/anaconda3/lib/python3.9/site-packages (from nbconvert->notebook>=4.4.1->widgetsnbextension~=3.5.0->ipywidgets->pycaret) (0.8.4)\n",
      "Requirement already satisfied: bleach in ./opt/anaconda3/lib/python3.9/site-packages (from nbconvert->notebook>=4.4.1->widgetsnbextension~=3.5.0->ipywidgets->pycaret) (4.1.0)\n",
      "Requirement already satisfied: pandocfilters>=1.4.1 in ./opt/anaconda3/lib/python3.9/site-packages (from nbconvert->notebook>=4.4.1->widgetsnbextension~=3.5.0->ipywidgets->pycaret) (1.5.0)\n",
      "Requirement already satisfied: soupsieve>1.2 in ./opt/anaconda3/lib/python3.9/site-packages (from beautifulsoup4->nbconvert->notebook>=4.4.1->widgetsnbextension~=3.5.0->ipywidgets->pycaret) (2.3.1)\n",
      "Requirement already satisfied: webencodings in ./opt/anaconda3/lib/python3.9/site-packages (from bleach->nbconvert->notebook>=4.4.1->widgetsnbextension~=3.5.0->ipywidgets->pycaret) (0.5.1)\n",
      "Requirement already satisfied: regex>=2021.8.3 in ./opt/anaconda3/lib/python3.9/site-packages (from nltk->pycaret) (2022.3.15)\n",
      "Requirement already satisfied: llvmlite<0.39,>=0.38.0rc1 in ./opt/anaconda3/lib/python3.9/site-packages (from numba->shap<1,>=0.40->mlflow->pycaret) (0.38.0)\n",
      "Requirement already satisfied: numexpr in ./opt/anaconda3/lib/python3.9/site-packages (from pyLDAvis->pycaret) (2.8.1)\n",
      "Requirement already satisfied: sklearn in ./opt/anaconda3/lib/python3.9/site-packages (from pyLDAvis->pycaret) (0.0.post1)\n",
      "Requirement already satisfied: future in ./opt/anaconda3/lib/python3.9/site-packages (from pyLDAvis->pycaret) (0.18.2)\n",
      "Requirement already satisfied: funcy in ./opt/anaconda3/lib/python3.9/site-packages (from pyLDAvis->pycaret) (1.17)\n",
      "Requirement already satisfied: murmurhash<1.1.0,>=0.28.0 in ./opt/anaconda3/lib/python3.9/site-packages (from spacy->pycaret) (1.0.9)\n",
      "Requirement already satisfied: spacy-loggers<2.0.0,>=1.0.0 in ./opt/anaconda3/lib/python3.9/site-packages (from spacy->pycaret) (1.0.4)\n",
      "Requirement already satisfied: catalogue<2.1.0,>=2.0.6 in ./opt/anaconda3/lib/python3.9/site-packages (from spacy->pycaret) (2.0.8)\n",
      "Requirement already satisfied: srsly<3.0.0,>=2.4.3 in ./opt/anaconda3/lib/python3.9/site-packages (from spacy->pycaret) (2.4.5)\n",
      "Requirement already satisfied: preshed<3.1.0,>=3.0.2 in ./opt/anaconda3/lib/python3.9/site-packages (from spacy->pycaret) (3.0.8)\n",
      "Requirement already satisfied: cymem<2.1.0,>=2.0.2 in ./opt/anaconda3/lib/python3.9/site-packages (from spacy->pycaret) (2.0.7)\n",
      "Requirement already satisfied: pathy>=0.3.5 in ./opt/anaconda3/lib/python3.9/site-packages (from spacy->pycaret) (0.10.1)\n",
      "Requirement already satisfied: langcodes<4.0.0,>=3.2.0 in ./opt/anaconda3/lib/python3.9/site-packages (from spacy->pycaret) (3.3.0)\n",
      "Requirement already satisfied: typer<0.8.0,>=0.3.0 in ./opt/anaconda3/lib/python3.9/site-packages (from spacy->pycaret) (0.7.0)\n",
      "Requirement already satisfied: thinc<8.2.0,>=8.1.0 in ./opt/anaconda3/lib/python3.9/site-packages (from spacy->pycaret) (8.1.5)\n",
      "Requirement already satisfied: wasabi<1.1.0,>=0.9.1 in ./opt/anaconda3/lib/python3.9/site-packages (from spacy->pycaret) (0.10.1)\n",
      "Requirement already satisfied: spacy-legacy<3.1.0,>=3.0.10 in ./opt/anaconda3/lib/python3.9/site-packages (from spacy->pycaret) (3.0.10)\n",
      "Requirement already satisfied: confection<1.0.0,>=0.0.1 in ./opt/anaconda3/lib/python3.9/site-packages (from thinc<8.2.0,>=8.1.0->spacy->pycaret) (0.0.3)\n",
      "Requirement already satisfied: blis<0.8.0,>=0.7.8 in ./opt/anaconda3/lib/python3.9/site-packages (from thinc<8.2.0,>=8.1.0->spacy->pycaret) (0.7.9)\n",
      "Requirement already satisfied: executing in ./opt/anaconda3/lib/python3.9/site-packages (from stack-data->IPython->pycaret) (0.8.3)\n",
      "Requirement already satisfied: asttokens in ./opt/anaconda3/lib/python3.9/site-packages (from stack-data->IPython->pycaret) (2.0.5)\n",
      "Requirement already satisfied: pure-eval in ./opt/anaconda3/lib/python3.9/site-packages (from stack-data->IPython->pycaret) (0.2.2)\n",
      "Requirement already satisfied: pynndescent>=0.5 in ./opt/anaconda3/lib/python3.9/site-packages (from umap-learn->pycaret) (0.5.8)\n"
     ]
    }
   ],
   "source": [
    "!pip3 install pycaret"
   ]
  },
  {
   "cell_type": "code",
   "execution_count": 11,
   "id": "2e1ac40b",
   "metadata": {},
   "outputs": [
    {
     "data": {
      "text/plain": [
       "'2.2.2'"
      ]
     },
     "execution_count": 11,
     "metadata": {},
     "output_type": "execute_result"
    }
   ],
   "source": [
    "from pycaret.utils import version\n",
    "version()"
   ]
  },
  {
   "cell_type": "code",
   "execution_count": 12,
   "id": "3078e276",
   "metadata": {},
   "outputs": [],
   "source": [
    "from xgboost import XGBClassifier\n",
    "from sklearn.model_selection import train_test_split\n",
    "from sklearn.metrics import accuracy_score"
   ]
  },
  {
   "cell_type": "code",
   "execution_count": 14,
   "id": "a6fe38f1",
   "metadata": {},
   "outputs": [],
   "source": [
    "#XGBoost split data into input and output\n",
    "X = dfWW[['probable_cases', 'vaccine_equity', 'pop_fully_vaccinated', 'pop_part_vaccinated', 'population_served',\n",
    "          'sample_matrix']]\n",
    "Y = dfWW['class']"
   ]
  },
  {
   "cell_type": "code",
   "execution_count": 15,
   "id": "fbab4665",
   "metadata": {},
   "outputs": [],
   "source": [
    "#split data into train and test sets\n",
    "seed = 7\n",
    "test_size = 0.33\n",
    "X_train, X_test, y_train, y_test = train_test_split(X, Y, test_size=test_size, random_state=seed)"
   ]
  },
  {
   "cell_type": "code",
   "execution_count": 17,
   "id": "87b207fc",
   "metadata": {},
   "outputs": [
    {
     "name": "stdout",
     "output_type": "stream",
     "text": [
      "<class 'pandas.core.frame.DataFrame'>\n",
      "RangeIndex: 7340 entries, 0 to 7339\n",
      "Data columns (total 7 columns):\n",
      " #   Column                Non-Null Count  Dtype  \n",
      "---  ------                --------------  -----  \n",
      " 0   probable_cases        7340 non-null   int64  \n",
      " 1   vaccine_equity        7340 non-null   int64  \n",
      " 2   pop_fully_vaccinated  7340 non-null   float64\n",
      " 3   pop_part_vaccinated   7340 non-null   float64\n",
      " 4   population_served     7340 non-null   int64  \n",
      " 5   sample_matrix         7340 non-null   object \n",
      " 6   class                 7340 non-null   object \n",
      "dtypes: float64(2), int64(3), object(2)\n",
      "memory usage: 401.5+ KB\n"
     ]
    }
   ],
   "source": [
    "dfWW.info()"
   ]
  },
  {
   "cell_type": "code",
   "execution_count": 19,
   "id": "efbb3fa8",
   "metadata": {},
   "outputs": [],
   "source": [
    "dfWW['class'] = dfWW['class'].astype(int)"
   ]
  },
  {
   "cell_type": "code",
   "execution_count": 20,
   "id": "15e84bfa",
   "metadata": {},
   "outputs": [
    {
     "name": "stdout",
     "output_type": "stream",
     "text": [
      "<class 'pandas.core.frame.DataFrame'>\n",
      "RangeIndex: 7340 entries, 0 to 7339\n",
      "Data columns (total 7 columns):\n",
      " #   Column                Non-Null Count  Dtype  \n",
      "---  ------                --------------  -----  \n",
      " 0   probable_cases        7340 non-null   int64  \n",
      " 1   vaccine_equity        7340 non-null   int64  \n",
      " 2   pop_fully_vaccinated  7340 non-null   float64\n",
      " 3   pop_part_vaccinated   7340 non-null   float64\n",
      " 4   population_served     7340 non-null   int64  \n",
      " 5   sample_matrix         7340 non-null   object \n",
      " 6   class                 7340 non-null   int64  \n",
      "dtypes: float64(2), int64(4), object(1)\n",
      "memory usage: 401.5+ KB\n"
     ]
    }
   ],
   "source": [
    "dfWW.info()"
   ]
  },
  {
   "cell_type": "code",
   "execution_count": 24,
   "id": "f35adbc4",
   "metadata": {},
   "outputs": [],
   "source": [
    "#XGBoost split data into input and output\n",
    "X = dfWW[['probable_cases', 'vaccine_equity', 'pop_fully_vaccinated', 'pop_part_vaccinated', 'population_served']]\n",
    "Y = dfWW['class']"
   ]
  },
  {
   "cell_type": "code",
   "execution_count": 25,
   "id": "d6e400f1",
   "metadata": {},
   "outputs": [],
   "source": [
    "#split data into train and test sets\n",
    "seed = 7\n",
    "test_size = 0.33\n",
    "X_train, X_test, y_train, y_test = train_test_split(X, Y, test_size=test_size, random_state=seed)"
   ]
  },
  {
   "cell_type": "code",
   "execution_count": 26,
   "id": "09a525b1",
   "metadata": {},
   "outputs": [
    {
     "data": {
      "text/plain": [
       "XGBClassifier(base_score=0.5, booster='gbtree', callbacks=None,\n",
       "              colsample_bylevel=1, colsample_bynode=1, colsample_bytree=1,\n",
       "              early_stopping_rounds=None, enable_categorical=False,\n",
       "              eval_metric=None, feature_types=None, gamma=0, gpu_id=-1,\n",
       "              grow_policy='depthwise', importance_type=None,\n",
       "              interaction_constraints='', learning_rate=0.300000012,\n",
       "              max_bin=256, max_cat_threshold=64, max_cat_to_onehot=4,\n",
       "              max_delta_step=0, max_depth=6, max_leaves=0, min_child_weight=1,\n",
       "              missing=nan, monotone_constraints='()', n_estimators=100,\n",
       "              n_jobs=0, num_parallel_tree=1, objective='multi:softprob',\n",
       "              predictor='auto', ...)"
      ]
     },
     "execution_count": 26,
     "metadata": {},
     "output_type": "execute_result"
    }
   ],
   "source": [
    "#Fit model to training data\n",
    "model = XGBClassifier()\n",
    "model.fit(X_train, y_train)"
   ]
  },
  {
   "cell_type": "code",
   "execution_count": 28,
   "id": "51402cee",
   "metadata": {},
   "outputs": [],
   "source": [
    "#make predictions for test data\n",
    "y_pred = model.predict(X_test)\n",
    "predictions = [round(value) for value in y_pred]"
   ]
  },
  {
   "cell_type": "code",
   "execution_count": 29,
   "id": "e57af7ea",
   "metadata": {},
   "outputs": [
    {
     "name": "stdout",
     "output_type": "stream",
     "text": [
      "Accuracy: 64.88%\n"
     ]
    }
   ],
   "source": [
    "#Evaluate predictions\n",
    "accuracy = accuracy_score(y_test, predictions)\n",
    "print(\"Accuracy: %.2f%%\" % (accuracy * 100))"
   ]
  },
  {
   "cell_type": "code",
   "execution_count": 30,
   "id": "e45c4542",
   "metadata": {},
   "outputs": [
    {
     "name": "stdout",
     "output_type": "stream",
     "text": [
      "1.0.2\n"
     ]
    }
   ],
   "source": [
    "import sklearn\n",
    "print(sklearn.__version__)"
   ]
  },
  {
   "cell_type": "code",
   "execution_count": 31,
   "id": "4bd2ab43",
   "metadata": {},
   "outputs": [],
   "source": [
    "from sklearn.datasets import make_classification"
   ]
  },
  {
   "cell_type": "code",
   "execution_count": 32,
   "id": "253cd1cf",
   "metadata": {},
   "outputs": [
    {
     "name": "stdout",
     "output_type": "stream",
     "text": [
      "(500, 20) (500,)\n"
     ]
    }
   ],
   "source": [
    "X, y = make_classification(n_samples=500, n_features=20, n_informative=15, n_redundant=5, random_state=7)\n",
    "print(X.shape, y.shape)"
   ]
  },
  {
   "cell_type": "code",
   "execution_count": 33,
   "id": "07c32a15",
   "metadata": {},
   "outputs": [],
   "source": [
    "#Evaluate Gradient Boosting Algorithm\n",
    "from numpy import mean\n",
    "from numpy import std\n",
    "from sklearn.datasets import make_classification\n",
    "from sklearn.model_selection import cross_val_score\n",
    "from sklearn.model_selection import RepeatedStratifiedKFold\n",
    "from sklearn.ensemble import GradientBoostingClassifier"
   ]
  },
  {
   "cell_type": "code",
   "execution_count": 34,
   "id": "45c2119e",
   "metadata": {},
   "outputs": [],
   "source": [
    "#Define dataset\n",
    "X, y = make_classification(n_samples=500, n_features=20, n_informative=15, n_redundant=5, random_state=7)"
   ]
  },
  {
   "cell_type": "code",
   "execution_count": 35,
   "id": "4ca1a3be",
   "metadata": {},
   "outputs": [],
   "source": [
    "#define the model\n",
    "model = GradientBoostingClassifier()"
   ]
  },
  {
   "cell_type": "code",
   "execution_count": 37,
   "id": "fe298003",
   "metadata": {},
   "outputs": [],
   "source": [
    "#define evaluation method\n",
    "cv = RepeatedStratifiedKFold(n_splits=10, n_repeats=3, random_state=1)"
   ]
  },
  {
   "cell_type": "code",
   "execution_count": 38,
   "id": "0c14ee9b",
   "metadata": {},
   "outputs": [],
   "source": [
    "#Evaluate the odel on the dataset\n",
    "n_scores = cross_val_score(model, X, y, scoring='accuracy', cv=cv, n_jobs=-1)"
   ]
  },
  {
   "cell_type": "code",
   "execution_count": 39,
   "id": "1a7fb18f",
   "metadata": {},
   "outputs": [
    {
     "name": "stdout",
     "output_type": "stream",
     "text": [
      "Mean Accuracy: 0.883 (0.049)\n"
     ]
    }
   ],
   "source": [
    "#report performance\n",
    "print('Mean Accuracy: %.3f (%.3f)' % (mean(n_scores), std(n_scores)))"
   ]
  },
  {
   "cell_type": "code",
   "execution_count": null,
   "id": "02298d0f",
   "metadata": {},
   "outputs": [],
   "source": []
  }
 ],
 "metadata": {
  "kernelspec": {
   "display_name": "Python 3 (ipykernel)",
   "language": "python",
   "name": "python3"
  },
  "language_info": {
   "codemirror_mode": {
    "name": "ipython",
    "version": 3
   },
   "file_extension": ".py",
   "mimetype": "text/x-python",
   "name": "python",
   "nbconvert_exporter": "python",
   "pygments_lexer": "ipython3",
   "version": "3.9.12"
  }
 },
 "nbformat": 4,
 "nbformat_minor": 5
}
